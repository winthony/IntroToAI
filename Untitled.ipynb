{
 "cells": [
  {
   "cell_type": "code",
   "execution_count": 8,
   "metadata": {},
   "outputs": [
    {
     "name": "stdout",
     "output_type": "stream",
     "text": [
      " 03:26:45 up 229 days, 12:35,  9 users,  load average: 11.07, 10.34, 10.41\r\n",
      "USER     TTY      FROM             LOGIN@   IDLE   JCPU   PCPU WHAT\r\n",
      "zychoo_2 pts/26   10.124.12.108    19:19    8:07m 22:55  22:55  /opt/anaconda/a\r\n",
      "edwin_le pts/28   10.124.132.206   23:28    3:57m  3:57   3:57  /opt/anaconda/a\r\n",
      "edwin_le pts/89   10.124.132.206   23:29    3:57m  0.05s  0.05s -bash\r\n",
      "john_teo pts/97   10.124.131.4     01:50    1:36m  1.11s  1.04s /opt/anaconda/a\r\n",
      "zychoo_2 pts/98   10.124.12.108    00:41    2:45m  7.78s  7.73s /opt/anaconda/a\r\n",
      "xinying_ pts/99   10.124.129.116   01:27    1:58m  1:31   1:31  /opt/anaconda/a\r\n",
      "xinying_ pts/101  10.124.129.116   01:28   43:16   0.06s  0.06s -bash\r\n",
      "john_teo pts/102  10.124.131.4     01:51    1:24m  0.05s  0.05s -bash\r\n",
      "account_ pts/118  :pts/89:S.0      Thu14    2days  0.15s  0.15s /bin/bash\r\n"
     ]
    }
   ],
   "source": [
    "!w"
   ]
  },
  {
   "cell_type": "code",
   "execution_count": 7,
   "metadata": {
    "scrolled": true
   },
   "outputs": [
    {
     "name": "stdout",
     "output_type": "stream",
     "text": [
      "Sun Oct  4 03:26:41 2020       \n",
      "+-----------------------------------------------------------------------------+\n",
      "| NVIDIA-SMI 440.48.02    Driver Version: 440.48.02    CUDA Version: 10.2     |\n",
      "|-------------------------------+----------------------+----------------------+\n",
      "| GPU  Name        Persistence-M| Bus-Id        Disp.A | Volatile Uncorr. ECC |\n",
      "| Fan  Temp  Perf  Pwr:Usage/Cap|         Memory-Usage | GPU-Util  Compute M. |\n",
      "|===============================+======================+======================|\n",
      "|   0  GeForce RTX 208...  On   | 00000000:04:00.0 Off |                  N/A |\n",
      "| 30%   33C    P8    34W / 250W |      0MiB / 11019MiB |      0%      Default |\n",
      "+-------------------------------+----------------------+----------------------+\n",
      "|   1  GeForce RTX 208...  On   | 00000000:05:00.0 Off |                  N/A |\n",
      "| 29%   28C    P8    11W / 250W |      0MiB / 11019MiB |      0%      Default |\n",
      "+-------------------------------+----------------------+----------------------+\n",
      "|   2  GeForce RTX 208...  On   | 00000000:08:00.0 Off |                  N/A |\n",
      "| 29%   30C    P2    69W / 250W |  10971MiB / 11019MiB |      0%      Default |\n",
      "+-------------------------------+----------------------+----------------------+\n",
      "|   3  GeForce RTX 208...  On   | 00000000:09:00.0 Off |                  N/A |\n",
      "| 36%   60C    P2   158W / 250W |  10971MiB / 11019MiB |     51%      Default |\n",
      "+-------------------------------+----------------------+----------------------+\n",
      "|   4  GeForce RTX 208...  On   | 00000000:83:00.0 Off |                  N/A |\n",
      "| 30%   44C    P2   130W / 250W |  10971MiB / 11019MiB |     51%      Default |\n",
      "+-------------------------------+----------------------+----------------------+\n",
      "|   5  GeForce RTX 208...  On   | 00000000:84:00.0 Off |                  N/A |\n",
      "| 30%   44C    P2    65W / 250W |  10971MiB / 11019MiB |     12%      Default |\n",
      "+-------------------------------+----------------------+----------------------+\n",
      "|   6  GeForce RTX 208...  On   | 00000000:87:00.0 Off |                  N/A |\n",
      "| 30%   43C    P2    60W / 250W |   3546MiB / 11019MiB |      6%      Default |\n",
      "+-------------------------------+----------------------+----------------------+\n",
      "|   7  GeForce RTX 208...  On   | 00000000:88:00.0 Off |                  N/A |\n",
      "| 29%   45C    P2    67W / 250W |  10971MiB / 11019MiB |     14%      Default |\n",
      "+-------------------------------+----------------------+----------------------+\n",
      "                                                                               \n",
      "+-----------------------------------------------------------------------------+\n",
      "| Processes:                                                       GPU Memory |\n",
      "|  GPU       PID   Type   Process name                             Usage      |\n",
      "|=============================================================================|\n",
      "|    2     18241      C   ...naconda/anaconda3/envs/tf2-0/bin/python 10959MiB |\n",
      "|    3     17706      C   ...naconda/anaconda3/envs/tf2-0/bin/python 10959MiB |\n",
      "|    4     34178      C   ...naconda/anaconda3/envs/tf2-0/bin/python 10959MiB |\n",
      "|    5      4163      C   ...naconda/anaconda3/envs/tf2-0/bin/python 10959MiB |\n",
      "|    6      3463      C   python                                       887MiB |\n",
      "|    7     17305      C   ...naconda/anaconda3/envs/tf2-0/bin/python 10959MiB |\n",
      "+-----------------------------------------------------------------------------+\n"
     ]
    }
   ],
   "source": [
    "!nvidia-smi\n"
   ]
  },
  {
   "cell_type": "code",
   "execution_count": null,
   "metadata": {},
   "outputs": [],
   "source": []
  }
 ],
 "metadata": {
  "kernelspec": {
   "display_name": "Python 3",
   "language": "python",
   "name": "python3"
  },
  "language_info": {
   "codemirror_mode": {
    "name": "ipython",
    "version": 3
   },
   "file_extension": ".py",
   "mimetype": "text/x-python",
   "name": "python",
   "nbconvert_exporter": "python",
   "pygments_lexer": "ipython3",
   "version": "3.6.5"
  }
 },
 "nbformat": 4,
 "nbformat_minor": 2
}
